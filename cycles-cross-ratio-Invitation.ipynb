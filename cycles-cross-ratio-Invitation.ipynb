{
 "cells": [
  {
   "cell_type": "markdown",
   "id": "9e345c28",
   "metadata": {
    "collapsed": false
   },
   "source": [
    "# Cycles cross product: a Jupyter Notebook\n",
    "### [Vladimir V Kisil](http://www1.maths.leeds.ac.uk/~kisilv/)\n",
    "\n",
    "This notebook provides an interactive version of the paper [Ref.11](#refKisil21).\n",
    "\n",
    "We introduce a new invariant for conformal and [Lie sphere\n",
    "  geometry](#https://en.wikipedia.org/wiki/Lie_sphere_geometry), which is analogous to the [cross-ratio](https://en.wikipedia.org/wiki/Cross-ratio) of four points in projective and hyperbolic geometries. To avoid technicalities and stay visual we will work in two dimensions, luckily all main features are already illuminating in this case. Obviously, our purpose is not to give an exhausting presentation (in fact, we are hoping it is far from being possible now), but rather to draw an attention to the new invariant and its benefits to the sphere geometry. There are numerous generalisation in higher dimensions and non-Euclidean metrics, see the last section of the paper [Ref.11](#refKisil21) for a discussion. \n",
    "\n",
    "**Note:** *to execute the notebook you may need to [install software](https://colab.research.google.com/github/vvkisil/Cycles-cross-ratio-Invitation/blob/master/Introduction/Software_installation_GUI_integration.ipynb).* \n",
    "\n",
    "Also you can use [CodeOcean capsule](https://codeocean.com/capsule/7952650/tree) or visit [HTML view of this notebook](http://www1.maths.leeds.ac.uk/~kisilv/Cycles-cross-ratio-Invitation/cycles-cross-ratio-Invitation.html).\n",
    "\n",
    "<a id=\"ToC\"></a>\n",
    "#### Table of contents of this notebook\n",
    "\n",
    "+ [Projective space of cycles](#ProjectiveSpace)\n",
    "+ [Fractional linear transformations](#FLT)\n",
    "+ [Invariant cycles product](#CycleProduct)\n",
    "+ [Cycles cross ratio](#crossRatio)\n",
    "  - [Definition of the cycles cross ratio and basic properties](#crossRatioDefinition)\n",
    "  - [Measure of anharmonicity](#crossRatioAnharmonicity)\n",
    "  - [Invariant sphere distance](#crossRatioDistance)\n",
    "  - [Midpoint in Euclidean and Lobachewsky geometries](#midpoints)\n",
    "+ [Further reading](#furtherReading)\n",
    "+ [References](#references)\n",
    "\n",
    "[Other related notebooks](https://github.com/vvkisil/Cycles-cross-ratio-Invitation/blob/master/Table_of_contents.md)."
   ]
  },
  {
   "cell_type": "markdown",
   "id": "3f66cd7f",
   "metadata": {
    "collapsed": false
   },
   "source": [
    "<a id=\"ProjectiveSpace\"></a>\n",
    "## Projective space of cycles\n",
    "A straightforward parametrisation of a circle equation:<a id=\"eq:circles-Pedoe\"></a>\n",
    "\\begin{equation}\n",
    "  x^2+y^2+2gx+2fy+c=0\n",
    "  \\tag{1}\n",
    "  \\label{eq:circles-Pedoe}\n",
    "\\end{equation}\n",
    "by a point $(g,f,c)$ in some subset of the three-dimensional Euclidean space $\\mathbb{R}^{3}$ was used in [Ref.12](#refPedoe), Ch.II. Abstractly we can treat a *point* $(x_0,y_0)$ of a plane as the zero-radius circle with coefficients $(g,f,c)=)(-x_0,-y_0,x_0^2+y_0^2)$.\n",
    "It is more advantageous to use the equation<a id=\"eq:cycle-generic\"></a>\n",
    "\\begin{equation}\n",
    "  k(x^2+y^2) -2lx -2ny +m=0,\n",
    "  \\tag{2}\n",
    "  \\label{eq:cycle-generic}\n",
    "\\end{equation}\n",
    "which also includes *straight lines* for $k=0$. This extension come at a price: parameters $(k,l,n,m)$ shall be treated as elements of the three dimensional projective space $P\\mathbb{R}^{3}$ rather than the Euclidean space $\\mathbb{R}^{4}$ since equations \\eqref{eq:cycle-generic} with $(k,l,n,m)$ and $(k_1,l_1,n_1,m_1)= (\\lambda k, \\lambda l, \\lambda n,\\lambda m)$ define the same set of points for any $\\lambda\\neq 0$. \n",
    "\n",
    "Next observation is that the linear structure of $P\\mathbb{R}^{3}$ is relevant for circles geometry. For example, the traditional concept of *pencil of circles* [Ref.2](#refCoxeter), §2.3 is nothing else but the linear span in $P\\mathbb{R}^{3}$ [Ref.13](#refSchwerdtfeger), §I.1.c. Therefore, it will be convenient to accept all points $(k,l,n,m)\\in P\\mathbb{R}^{3}$ on equal ground even if they correspond to an empty set of solutions $(x,y)$ in \\eqref{eq:cycle-generic}. The latter can be thought as ``circles with imaginary radii''.\n",
    "\n",
    "It is also appropriate to consider $(0,0,0,1)$ as a representative of the point $C_\\infty$ at infinity, which complements $\\mathbb{R}^{2}$ to the Riemann sphere.\n",
    "Following [Ref.14](#refYaglom) we call circles (with real and imaginary radii), straight lines and points (including $C_\\infty$) on a plane by joint name [*cycles*](https://colab.research.google.com/github/vvkisil/Cycles-cross-ratio-Invitation/blob/master/Geometry_of_cycles/Start_from_Basics/What_is_cycle.ipynb). Correspondingly, the space $P\\mathbb{R}^{3}$ representing them—the *cycles space*.\n",
    "\n",
    "An algebraic consideration often benefits from an introduction of complex number. For example, we can re-write \\eqref{eq:cycle-generic} as:<a id=\"eq:circle-complex-matrix\"></a>\n",
    "\\begin{align}\n",
    "  \\begin{pmatrix}\n",
    "    -1&\\bar{z}\n",
    "  \\end{pmatrix}\n",
    "  \\begin{pmatrix}\n",
    "    \\bar{L}&-m\\\\\n",
    "    k&-{L}\n",
    "  \\end{pmatrix}\n",
    "  \\begin{pmatrix}\n",
    "    z\\\\1\n",
    "  \\end{pmatrix}&=\n",
    "                 k z\\bar{z}-L\\bar{z}-\\bar{L}z+m\n",
    "\t\t \\tag{3}\n",
    "  \\label{eq:circle-complex-matrix}\n",
    "\t\t \\\\\n",
    "  \\nonumber \n",
    "  & =   k(x^2+y^2) -2lx -2ny +m.\n",
    "\\end{align}\n",
    "where $z=x+i y$ and $L=l+i n$.\n",
    "\n",
    "Let us check this computation using software. First we load the package and initialise some symbols for generic calculations. Thing will go much faster once all these preparation are done (see below)."
   ]
  },
  {
   "cell_type": "code",
   "execution_count": null,
   "id": "bf28a423",
   "metadata": {
    "collapsed": false
   },
   "outputs": [],
   "source": [
    "from figure import *\n",
    "# Some symbols\n",
    "k=realsymbol(\"k\")\n",
    "l=realsymbol(\"l\")\n",
    "n=realsymbol(\"n\")\n",
    "m=realsymbol(\"m\")\n",
    "\n",
    "x=realsymbol(\"x\")\n",
    "y=realsymbol(\"y\")\n",
    "z=x+I*y\n",
    "L=l+I*n\n",
    "Latex(f'FSCc expansion: ${evalm(matrix([[-1,conjugate(z)]])*matrix([[conjugate(L),-m],[k, -L]])*matrix([[z],[1]])).op(0).expand()}$')"
   ]
  },
  {
   "cell_type": "markdown",
   "id": "f891a936",
   "metadata": {
    "collapsed": false
   },
   "source": [
    " We call  *Fillmore--Springer--Cnops construction* (or *FSCc* for short) the association of the matrix $$C= \\begin{pmatrix}\n",
    "    \\bar{L}&-m\\\\\n",
    "    k&-{L}\n",
    "  \\end{pmatrix}\n",
    "$$ to a cycle with coefficients $(k,l,n,m)$[Ref.3](#refFS), [Ref.1](#refCnops).\n",
    "\n",
    "A user MoebInv software rarely need FSCc matrix of a cycle, there are higher more convenient level tools instead. Nevertheless, the FSCc matrix can be obtained from a cycle as follows.  "
   ]
  },
  {
   "cell_type": "code",
   "execution_count": null,
   "id": "f890ee50",
   "metadata": {
    "collapsed": false
   },
   "outputs": [],
   "source": [
    "mu=idx(symbol(\"mu\"),1) # We will use the paravector formalism which more similar to complex numbers\n",
    "e=clifford_unit(mu,diag_matrix([-1])) # Metric of the space is Euclidean"
   ]
  },
  {
   "cell_type": "markdown",
   "id": "1ab1ed13",
   "metadata": {
    "collapsed": false
   },
   "source": [
    "Once everything is prepared, we define a cycle and print its FSCc matrix. We define\n",
    "$\\LaTeX$ command `\\clifford` $\\newcommand{\\clifford}[1][]{}$ to make the output smoother."
   ]
  },
  {
   "cell_type": "code",
   "execution_count": null,
   "id": "2e0b1319",
   "metadata": {
    "collapsed": false
   },
   "outputs": [],
   "source": [
    "C=cycle2D(k,[l,n],m,e)\n",
    "Latex(f'Cycle ${C}$ has FSCc matrix ${C.to_matrix()}$')"
   ]
  },
  {
   "cell_type": "markdown",
   "id": "a439225c",
   "metadata": {
    "collapsed": false
   },
   "source": [
    "Note that the software work in any dimensions, thus it is based on the Clifford algebras. In their terms $e^0$ shall read as the imaginary unit $i$ and $\\mathbb{1}$ is just the scalar $1$. There are also some tiny difference in signs with the above definition of FSCc. "
   ]
  },
  {
   "cell_type": "markdown",
   "id": "a068e4e5",
   "metadata": {
    "collapsed": false
   },
   "source": [
    "A reader may expect a more straightforward realisation of the quadratic form \\eqref{eq:cycle-generic}, cf. [Ref.13](#refSchwerdtfeger), §I.1:<a id=\"eq:circle-complex-Schwerdtfeger\"></a>\n",
    "\\begin{equation}\n",
    "  \\begin{pmatrix}\n",
    "    \\bar{z} & 1\n",
    "  \\end{pmatrix}\n",
    "  \\begin{pmatrix}\n",
    "    k&-{L}\\\\\n",
    "    -\\bar{L}&m\n",
    "  \\end{pmatrix}\n",
    "  \\begin{pmatrix}\n",
    "    z\\\\1\n",
    "  \\end{pmatrix}=\n",
    "  k z\\bar{z}-L\\bar{z}-\\bar{L}z+m.\n",
    "  \\tag{4}\n",
    "  \\label{eq:circle-complex-Schwerdtfeger}\n",
    "\\end{equation}\n",
    "However, FSCc will show its benefits in the next section. Meanwhile, we note that a point $z$ corresponding to the zero radius cycle with the centre $z$ is represented to the matrix<a id=\"eq:zero-radius-defn\"></a>\n",
    "\\begin{equation}\n",
    "  Z=\n",
    "  \\begin{pmatrix}\n",
    "    \\bar{z} & -z \\bar{z}\\\\\n",
    "    1 & -z\n",
    "  \\end{pmatrix}\n",
    "  = \\frac{1}{2}\n",
    "  \\begin{pmatrix}\n",
    "    \\bar{z} & \\bar{z}\\\\\n",
    "    1 & 1\n",
    "  \\end{pmatrix}\n",
    "  \\begin{pmatrix}\n",
    "    1 & -z \\\\\n",
    "    1 & -z\n",
    "  \\end{pmatrix},\n",
    "  \\tag{5}\n",
    "  \\label{eq:zero-radius-defn}\n",
    "\\end{equation}\n",
    "where $\\det Z=0$.  More generally, $$\\det   \\begin{pmatrix}\n",
    "    \\bar{L}&-m\\\\\n",
    "    k&-{L}\n",
    "  \\end{pmatrix} = -k^2 r^2\n",
    "$$ for $k\\neq 0$ and the cycle's radius $r$. "
   ]
  },
  {
   "cell_type": "markdown",
   "id": "1c397db9",
   "metadata": {
    "collapsed": false
   },
   "source": [
    "Zero-radius cycle can be treated as follows:"
   ]
  },
  {
   "cell_type": "code",
   "execution_count": null,
   "id": "90e51542",
   "metadata": {
    "collapsed": false
   },
   "outputs": [],
   "source": [
    "Z = cycle2D([x,y], e)\n",
    "Latex(f'Cycle ${Z}$ has the determinant ${Z.to_matrix().determinant()}$')"
   ]
  },
  {
   "cell_type": "markdown",
   "id": "b3e9abaa",
   "metadata": {
    "collapsed": false
   },
   "source": [
    "Also, that the point at infinity can be also represented by a zero-radius cycle:<a id=\"eq:infinity-cycle\"></a>\n",
    "\\begin{equation}\n",
    "  C_\\infty =\n",
    "  \\begin{pmatrix}\n",
    "    0& -1\\\\0&0\n",
    "  \\end{pmatrix} \\qquad \\text{or}\\qquad\n",
    "  (k,l,n,m)=(0,0,0,1).\n",
    "  \\tag{7}\n",
    "  \\label{eq:infinity-cycle}\n",
    "\\end{equation}\n"
   ]
  },
  {
   "cell_type": "markdown",
   "id": "a701716d",
   "metadata": {
    "collapsed": false
   },
   "source": [
    "[Back to ToC](#ToC)"
   ]
  },
  {
   "cell_type": "markdown",
   "id": "335fb296",
   "metadata": {
    "collapsed": false
   },
   "source": [
    "<a id=\"FLT\"></a>\n",
    "## Fractional linear transformations and the invariant product\n",
    "\n",
    "In the spirit of [Erlangen programme](https://en.wikipedia.org/wiki/Erlangen_program) of Felix Klein (greatly influenced by Sophus Lie), a consideration of cycle geometry is based on a group of transformations preserving this family \\cites{Kisil06a,Kisil12a}. \n",
    "Let $$M=\n",
    "\\begin{pmatrix}\n",
    "  \\alpha  &\\beta\\\\ \\gamma & \\delta \n",
    "\\end{pmatrix}$$ be an invertible $2\\times 2$ complex matrix. Then the *fractional linear transformation* (*FLT* for short) of the extended complex plane $\\dot{\\mathbb{C}^{}}= \\mathbb{C}^{}\\cup \\{\\infty\\}$ is defined by:<a id=\"eq:FLT-defn\"></a>\n",
    "\\begin{equation}\n",
    "  \\begin{pmatrix}\n",
    "    \\alpha  &\\beta\\\\ \\gamma & \\delta \n",
    "  \\end{pmatrix}: z \\mapsto \\frac{\\alpha z +\\beta}{\\gamma z +\\delta}\n",
    "  \\tag{6}\n",
    "  \\label{eq:FLT-defn}\n",
    "\\end{equation}\n",
    "It will be convenient to introduce the notation $\\bar{M}$ for the matrix $$\n",
    "\\begin{pmatrix}\n",
    "  \\bar{\\alpha}  &\\bar{\\beta}\\\\ \\bar{\\gamma} & \\bar{\\delta} \n",
    "\\end{pmatrix}$$ with complex conjugated entries of $M$. For a cycle $C$ the matrix $\\bar{C}$ corresponds to the reflection of $C$ in the real axis $y=0$.  Also due to special structure of FSCc matrix we easily check that<a id=\"eq:conjugated-inverse\"></a>\n",
    "\\begin{equation}\n",
    "  \\bar{C}C={C}\\bar{C}=-\\det(C)I\n",
    "  \\qquad \\text{or} \\qquad\n",
    "  \\bar{C} \\sim C^{-1} \\text{ projectively if } \\det(C)\\neq 0.\n",
    "  \\tag{8}\n",
    "  \\label{eq:conjugated-inverse}\n",
    "\\end{equation}\n",
    "\n",
    "If a cycle $C$ is composed from a non-empty set of points in \\((x,y) \\in \\Space{R}{2}\\) satisfying to~\\eqref{eq:cycle-generic}, then their images under the  transformation~\\eqref{eq:FLT-defn} form again a cycle $C_1$ with notable link to FSCc:\n",
    "\n",
    "**Lemma**.  *The transformation \\eqref{eq:FLT-defn} maps a cycle* $$C=  \\begin{pmatrix}\n",
    "    \\bar{L}&-m\\\\\n",
    "    k&-{L}\n",
    "  \\end{pmatrix}\n",
    "$$ *into a cycle* $$C_1=  \\begin{pmatrix}\n",
    "    \\bar{L}_1&-m_1\\\\\n",
    "    k_1&-{L}_1\n",
    "  \\end{pmatrix}\n",
    "  $$ *such that* $C_1= \\bar{M} C M^{-1}$.\n",
    "\n",
    "Clearly, the map $C \\rightarrow \\overline{M} C M^{-1}$ is meaningful for any cycle, including imaginary ones, thus we regard it as FLT action on the cycle space. For the matrix form \\eqref{eq:circle-complex-Schwerdtfeger} the above map $C_1= \\bar{M} C M^{-1}$ needs to be replaced by the matrix congruence  $C_1= M^* C M$ [Ref.13](#refSchwerdtfeger), §II.6.e. \n",
    "\n",
    "[Back to ToC](#ToC)"
   ]
  },
  {
   "cell_type": "markdown",
   "id": "f6699304",
   "metadata": {
    "collapsed": false
   },
   "source": [
    "<a id=\"CycleProduct\"></a>\n",
    "## Invariant cycle product\n",
    "This difference is significant in view of the following definition.\n",
    "\n",
    "**Definition 1**.\n",
    "    *For two cycles $C$ and $C_1$ define the *cycles product* by:*<a id=\"eq:cycles-product-defn\"></a>\n",
    "  \\begin{equation}\n",
    "    〈C, C_1〉=-\\mathbf{tr}(C\\bar{C}_1),\n",
    "    \\tag{9}\n",
    "    \\label{eq:cycles-product-defn}\n",
    "  \\end{equation}\n",
    "  *where $\\mathbf{tr}$ denotes the trace of a matrix*.\n",
    "  \n",
    "  *We call two cycles $C$ and $C_1$ *orthogonal* if $〈C, C_1〉=0$*.\n",
    "\n",
    "It is easy to find the explicit expression of the cycle product \\eqref{eq:cycles-product-defn}:\n",
    "Let us define the second cycle:"
   ]
  },
  {
   "cell_type": "code",
   "execution_count": null,
   "id": "d858eff7",
   "metadata": {
    "collapsed": false
   },
   "outputs": [],
   "source": [
    "k1=realsymbol(\"k1\", \"{k'}\")\n",
    "l1=realsymbol(\"l1\", \"{l'}\")\n",
    "n1=realsymbol(\"n1\", \"{n'}\")\n",
    "m1=realsymbol(\"m1\", \"{m'}\")\n",
    "\n",
    "C1=cycle2D(k1,[l1,n1],m1,e)\n",
    "Latex(f'Cycle product if two cycles is: ${C.cycle_product(C1)}$')"
   ]
  },
  {
   "cell_type": "markdown",
   "id": "8c04580e",
   "metadata": {
    "collapsed": false
   },
   "source": [
    "That is for the complex plane with $\\sigma =-1$ we have<a id=\"eq:cycle-product-explicit\"></a>\n",
    "\\begin{equation}\n",
    "  〈C, C_1〉 = km_1+k_1m-2ll_1-2nn_1,\n",
    "  \\tag{10}\n",
    "  \\label{eq:cycle-product-explicit}\n",
    "\\end{equation}\n",
    "and observe that it is linear in coefficients of the cycle $C$ (and $C_1$ as well).\n",
    "On the other hand, it is the initial definition \\eqref{eq:cycles-product-defn}, which allows us to use the invariance of trace under matrix similarity to conclude:\n",
    "**Corolloray**\n",
    "  *The cycles product is invariant under the transformation $C\\mapsto    \\bar{M} C M^{-1}$. Therefore FLT \\eqref{eq:FLT-defn} preserves orthogonality of cycles.*\n",
    "\n",
    "The cycle product is a rather recent addition to the cycle geometry, see independent works [Ref.3](#refFS) [Ref.1](#refCnops). Interestingly, the expression \\eqref{eq:cycles-product-defn} essentially repeats the [GNS-construction](https://en.wikipedia.org/wiki/Gelfand-Naimark-Segal_construction) in $C^*$-algebras which is older by a half of century at least.\n",
    "\n",
    "<a id=\"aboutOrthogonality\"></a>\n",
    "The cycles product and cycles orthogonality encode a great amount of geometrical characteristics. For example, for cycles represented by non-empty sets of points in \\(\\mathbb{R}^{2}\\) we note:\n",
    "\n",
    "+   A cycle is a straight line if it is orthogonal\n",
    "    $〈C, C_\\infty〉=0$ to the zero-radius cycle at\n",
    "    infinity $C_\\infty$ \\eqref{eq:infinity-cycle}.\n"
   ]
  },
  {
   "cell_type": "code",
   "execution_count": null,
   "id": "0925ad79",
   "metadata": {
    "collapsed": false
   },
   "outputs": [],
   "source": [
    "Zinf=cycle2D(0,[0,0],1,e)\n",
    "Latex(f'Infinity cycle: ${Zinf}$. Product with it is: ${C.is_orthogonal(Zinf)}$')"
   ]
  },
  {
   "cell_type": "markdown",
   "id": "3c57b0fc",
   "metadata": {
    "collapsed": false
   },
   "source": [
    "+ <a id=\"eq:it:point-zero-radius\"></a>\n",
    "  A cycle $Z$ represents a point if $Z$ is\n",
    "  self-orthogonal (*isotropic*):\n",
    "  $〈Z, Z〉=0$. More generally, \\eqref{eq:conjugated-inverse} implies:\n",
    " \\begin{equation}\n",
    "  \\label{eq:cycles-self-product-is-det}\n",
    "  〈C, C〉=2\\det(C).\n",
    " \\end{equation}"
   ]
  },
  {
   "cell_type": "code",
   "execution_count": null,
   "id": "7014efa6",
   "metadata": {
    "collapsed": false
   },
   "outputs": [],
   "source": [
    "Latex(f'Point is self-orthogonal: {bool(Z.is_orthogonal(Z))}. '\n",
    "      +(f'Self-product is tvice determinant: {(C.cycle_product(C)-2*remove_dirac_ONE(C.to_matrix().determinant())).is_zero()}'))\n"
   ]
  },
  {
   "cell_type": "markdown",
   "id": "914f8457",
   "metadata": {
    "collapsed": false
   },
   "source": [
    "+ A cycle $C$ passes a point $Z$ if they are orthogonal $〈C, Z〉=0$."
   ]
  },
  {
   "cell_type": "code",
   "execution_count": null,
   "id": "f30ec6ce",
   "metadata": {
    "collapsed": false
   },
   "outputs": [],
   "source": [
    "Latex(f'Equation for othogonality ${C.is_orthogonal(Z)}$ is the same as for passing: ${C.passing([x,y])}$')"
   ]
  },
  {
   "cell_type": "markdown",
   "id": "7ba66385",
   "metadata": {
    "collapsed": false
   },
   "source": [
    "+ A cycles represents a line in Lobachevsky   geometry if it is orthogonal\n",
    "  $〈C, C_{\\mathbb{R}}〉=0$  to the real line cycle\n",
    "  $$C_{\\mathbb{R}^{}}=\n",
    "  \\begin{pmatrix}\n",
    "    i &0\\\\0& i\n",
    "  \\end{pmatrix}\n",
    "  $$."
   ]
  },
  {
   "cell_type": "code",
   "execution_count": null,
   "id": "b4da3e14",
   "metadata": {
    "collapsed": false
   },
   "outputs": [],
   "source": [
    "CR = cycle2D(0,[0,1],0,e)\n",
    "Latex(f'Orthogonality to the real line: ${C.is_orthogonal(CR)}$')"
   ]
  },
  {
   "cell_type": "markdown",
   "id": "e4a57b73",
   "metadata": {
    "collapsed": false
   },
   "source": [
    "+ Two cycles are orthogonal as subsets of a plane (i.e. they have perpendicular tangents at an intersection point)  if they are   orthogonal in the sense of cycle product Definition.\n",
    "  \n",
    "  Indeed, let us:\n",
    "  * Build a generic cycle `C2` orthogonal to `C`.\n",
    "  * Find centres of both cycles and distance $d$ between them. \n",
    "  * Check the Pythagoras rule $d^2=r^2 + r_2^2$."
   ]
  },
  {
   "cell_type": "code",
   "execution_count": null,
   "id": "3b9f9939",
   "metadata": {
    "collapsed": false
   },
   "outputs": [],
   "source": [
    "C2=C1.subject_to([C1.is_orthogonal(C)])\n",
    "P=C.center()\n",
    "P2=C2.center()\n",
    "f'Both orthogonalities are the same: {((P[0]-P2[0])**2+(P[1]-P2[1])**2-C.radius_sq()-C2.radius_sq()).expand().normal().is_zero()}'\n"
   ]
  },
  {
   "cell_type": "markdown",
   "id": "186467f0",
   "metadata": {
    "collapsed": false
   },
   "source": [
    "+ Two cycles $C$ and $C_1$\n",
    "  are *tangent* if\n",
    "   $$ 〈C, C_1〉^2\n",
    "    =  〈C, C〉\n",
    "    〈C_1, C_1〉\n",
    "    $$\n",
    "    \n",
    "    Indeed, let us:\n",
    "    * Pick a point $(u,v$ and find the distance to $d$ to the centre of `C`\n",
    "    * Define a cycle `C3` with centre $(u,v)$ and the radius $r_3=d-r$.\n",
    "    * Check the formula for `C` and ``C3`."
   ]
  },
  {
   "cell_type": "code",
   "execution_count": null,
   "id": "82c544d7",
   "metadata": {
    "collapsed": false
   },
   "outputs": [],
   "source": [
    "d = sqrt((P[0]-x)**2+(P[1]-y)**2)\n",
    "r3_sq=((d-sqrt(C.radius_sq()))**2).expand()\n",
    "C3=cycle2D([x,y],e, r3_sq)\n",
    "f'Tangency condition is correct: {(C.cycle_product(C3)**2- C.cycle_product(C)*C3.cycle_product(C3)).expand().normal().is_zero()}'"
   ]
  },
  {
   "cell_type": "markdown",
   "id": "09ae673d",
   "metadata": {
    "collapsed": false
   },
   "source": [
    "+  The *inversive distance* [Ref.2](#refCoxeter), §5.8 $\\theta$ of two (non-isotropic) cycles is defined by the formula:\n",
    "  \\begin{equation}\n",
    "    \\theta     =  \\frac{〈C, C_1〉}{\\sqrt{\n",
    "    〈C, C〉 〈C_1, C_1〉}}.\n",
    "    \\tag{11}\n",
    "    \\label{eq:inversive-distance}\n",
    "  \\end{equation}\n",
    "  In particular, the above discussed orthogonality corresponds to\n",
    "  $\\theta=0$ and the tangency to $\\theta=\\pm1$. For intersecting\n",
    "  cycles $\\theta$ is the cosine of the intersecting\n",
    "  angle. Out of curiosity we may want to find its cumbersome explicit formula"
   ]
  },
  {
   "cell_type": "code",
   "execution_count": null,
   "id": "a2e8aebe",
   "metadata": {
    "collapsed": false
   },
   "outputs": [],
   "source": [
    "Latex(f'Inversive distance is: $\\displaystyle {(C.cycle_product(C1)/sqrt(C.cycle_product(C) * C1.cycle_product(C1))).normal()}$')"
   ]
  },
  {
   "cell_type": "markdown",
   "id": "1d64dfcf",
   "metadata": {
    "collapsed": false
   },
   "source": [
    "+ A generalisation of Steiner power $d$ of two cycles is defined\n",
    "  as, cf. [Ref.3](#refFS), §1.1:\n",
    "  $$   \n",
    "  d=    〈C, C_1〉    + \\sqrt{〈C, C〉  〈C_1, C_1〉}, \n",
    "  \\tag{12}\n",
    "  \\label{eq:steiner-power}\n",
    "  $$\n",
    "  where both cycles $C$ and $C_1$ are scaled to have $k=1$ and $k_1=1$. Geometrically, the\n",
    "  generalised Steiner power for spheres provides the square of\n",
    "  tangential distance."
   ]
  },
  {
   "cell_type": "code",
   "execution_count": null,
   "id": "c04e77dd",
   "metadata": {
    "collapsed": false
   },
   "outputs": [],
   "source": [
    "Cn=cycle2D(1, [l, n], m, e) # k-normalised cycles \n",
    "C1n=cycle2D(1, [l1, n1], m1, e)\n",
    "Latex(f'Steiner powe is: $\\displaystyle {(Cn.cycle_product(C1n) +sqrt(Cn.cycle_product(Cn) * C1n.cycle_product(C1n))).normal()}$')"
   ]
  },
  {
   "cell_type": "markdown",
   "id": "4c413df8",
   "metadata": {
    "collapsed": false
   },
   "source": [
    "The cycles product is *indefinite*, see [Ref.4](#refGohberg) for an  account of the theory with some refreshing differences to the more familiar situation of inner product spaces. One illustration is the presence of self-orthogonal non-zero vectors, see zero-radius cycles above. Another noteworthy observation is that the product \\eqref{eq:cycle-product-explicit} has the Lorentzian signature $(1,3)$ and $\\mathbb{R}^{4}$ with this product is isomorphic to Minkowski space-time. \n",
    "\n",
    "[Back to ToC](#ToC)"
   ]
  },
  {
   "cell_type": "markdown",
   "id": "3442c4db",
   "metadata": {
    "collapsed": false
   },
   "source": [
    "<a id=\"crossRatio\"></a>\n",
    "## Cycles cross ratio\n",
    "Due to the projective nature of the cycles space (i.e. matrices $C$ and $\\lambda C$ correspond to the same cycle) a *non-zero* value of the cycle product [()](#eq:cycles-product-defn) is not directly meaningful. Of course, this does not affect the cycles orthogonality. A partial remedy in other cases is possible through various *normalisations* [Ref.6](#refKisil12), § 5.2. Usually they are specified by conditions either  \n",
    "+ $k=1$, which is convenient for metric properties of cycles. It brings us back to the initial equation \\eqref{eq:circles-Pedoe} and is not possible for straight lines; or\n",
    "+ $〈C, C〉=\\pm 1$, which is useful, say, for tangency but is not possible for points. "
   ]
  },
  {
   "cell_type": "markdown",
   "id": "6c9b49c8",
   "metadata": {
    "collapsed": false
   },
   "source": [
    "<a id=\"crossRatioDefinition\"></a>\n",
    "### Definition of the cycles cross ratio and basic properties \n",
    "Recall, that the projective ambiguity is elegantly balanced in the *cross ratio* of four points:\n",
    "$$\n",
    "  (z_1,z_2;z_3,z_4) = \\frac{z_1-z_3}{z_1-z_4} :  \\frac{z_2-z_3}{z_2-z_4}.\n",
    "\\tag{13}\n",
    "\\label{eq:cross-ratio-points}\n",
    "$$\n",
    "We use this classical pattern in the following definition.\n",
    "\n",
    "**Definition 2**.  A *cycles cross ratio*  of four cycles $C_1$, $C_2$, $C_3$ and  $C_4$ is:\n",
    "$$\n",
    "\\tag{14}\n",
    "\\label{eq:cycles-cross-ratio-defn}\n",
    "    〈C_1, C_2; C_3, C_4〉= \\frac{〈C_1, C_3〉}{〈C_1, C_4〉}:\\frac{〈C_2, C_3〉}{〈C_2, C_4〉}\n",
    "$$\n",
    "  assuming $〈C_1, C_4〉 〈C_2, C_3〉 \\neq 0$. If $〈C_1, C_4〉 〈C_2, C_3〉 = 0$ but $〈C_1, C_3〉 〈C_2, C_4〉 \\neq 0$ we put $[C_1, C_2; C_3, C_4] = \\infty$. The cycle cross ratio is generally undefined in the remaining case of an indeterminacy $\\frac{0}[0}$.\n",
    "  \n",
    "  Some additional geometrical reasons may help to resolve the last situation, see the consideration of [tangency with zero-radius cycle](#ex:tangency-zero-radius) below."
   ]
  },
  {
   "cell_type": "markdown",
   "id": "5c39d2ea",
   "metadata": {
    "collapsed": false
   },
   "source": [
    "As an initial justification of the definition we list the following properties.\n",
    "**Proposition 1**.\n",
    "+ The cycles cross ratio is a well-defined FLT-invariant of quadruples of cycles.\n",
    "+ The cycles cross ratio of four zero-radius cycles is the squared modulus of the cross ratio for the respective points:\n",
    "$$\n",
    "\\tag{15}\n",
    "\\label{eq:cross-ratio-points-eq}\n",
    "〈Z_1, Z_2; Z_3, Z_4〉=  |(z_1,z_2;z_3,z_4)|^2.\n",
    "$$\n",
    "+ There is the *cancellation formula*:\n",
    "$$\n",
    "〈C_1, C; C_3, C_4〉    〈C, C_2; C_3, C_4〉    = 〈C_1, C_2; C_3, C_4〉.\n",
    "\\tag{16}\n",
    "\\label{eq:cross-ratio-cancellation}\n",
    "$$\n",
    "\n",
    "*Proof.*\n",
    "  The first statement follows from Cor.~\\ref{co:cycle-product-FLT-invariant} and the construction of the cycles cross ratio. To show the second statement we derive from~\\eqref{eq:zero-radius-defn} and~\\eqref{eq:cycle-product-explicit} that:\n",
    "  $$\n",
    "    \\langle Z_i, Z_j \\rangle = |z_i - z_j|^2,\n",
    "  $$\n",
    "  if we use representations of zero-radius cycles $Z_i$ and $Z_j$ by coefficients with $k_i=k_j=1$. We can verify this by our software as well:"
   ]
  },
  {
   "cell_type": "code",
   "execution_count": null,
   "id": "e8104ed5",
   "metadata": {
    "collapsed": false
   },
   "outputs": [],
   "source": [
    "x1 = realsymbol(\"x1\", \"x_1\")\n",
    "y1 = realsymbol(\"y1\", \"y_1\")\n",
    "z1 = x1 + I*y1\n",
    "delta = z-z1\n",
    "Z1 = cycle2D([x1,y1], e)\n",
    "f'Above formula is correct: {(Z.cycle_product(Z1)-delta*conjugate(delta)).expand().is_zero()}'"
   ]
  },
  {
   "cell_type": "markdown",
   "id": "f655d141",
   "metadata": {
    "collapsed": false
   },
   "source": [
    "This implies~\\eqref{eq:cross-ratio-points-eq}. A demonstration of~\\eqref{eq:cross-ratio-cancellation} is straightforward."
   ]
  },
  {
   "cell_type": "markdown",
   "id": "390385a6",
   "metadata": {
    "collapsed": false
   },
   "source": [
    "To demonstrate that there is more than just a formal similarity between two we briefly list some applications. First, we rephrase [Ex. 1](#it:inversive-distance) in new terms.\n",
    "\n",
    "<a id=\"ex:inversive-dist-cross-ratio\"></a>\n",
    "**Example 1**.\n",
    "The inversive distance [(11)](#eq:inversive-distance) between two non-zero radius cycles relates to the cycles cross product:\n",
    "$$\n",
    "      \\theta^2 = 〈C,C_1;C_1,C〉.\n",
    "$$\n",
    "    In particular cycles are\n",
    "  \n",
    "+ orthogonal if $〈C,C_1;C_1,C〉=0$;\n",
    "+ tangent if $〈C,C_1;C_1,C〉=\\pm 1$; and\n",
    "+ disjoint if  $|〈C,C_1;C_1,C〉|> 1$.\n",
    "  \n",
    "Thereafter, FLT-invariance of the cycles cross ratio implies that the intersection angle of cycles is FLT-invariant. "
   ]
  },
  {
   "cell_type": "markdown",
   "id": "58cfc339",
   "metadata": {
    "collapsed": false
   },
   "source": [
    "<a id=\"ex:tangency-zero-radius\"></a>\n",
    "**Example 2**.\n",
    "  If a non-zero radius cycle passes a zero radius cycle (point) their cross ratio has an indeterminacy $\\frac{0}{0}$. Geometrically their relation can be seen in either ways: as orthogonality or tangency. Therefore, the indeterminacy of the cycle cross ratio can be geometrically resolved differently either to $0$ (indicates orthogonality) or $1$ (corresponds to tangency). \n",
    "\n",
    "First, we show a resolution to the value $0$. To this end we create a cycle `Zt` with a fixed centre and a variable squared radius $t$. Then we define a cycle `C0` orthogonal  to `Zt`. To resolve indeterminacy $\\frac{0}{0}$ we use l'Hospital's rule replacing the fraction by the fraction of the derivatives. Then we make the substitution $t=0$ corresponding to the case of `Zt` with the zero radius."
   ]
  },
  {
   "cell_type": "code",
   "execution_count": null,
   "id": "44e3b623",
   "metadata": {
    "collapsed": false
   },
   "outputs": [],
   "source": [
    "t = realsymbol(\"t\")\n",
    "Zt = cycle2D([x,y], e, t)\n",
    "C0=C.subject_to([C.is_orthogonal(Zt)])\n",
    "lHospital = (C0.cycle_product(Zt)**2).diff(t) / (Zt.cycle_product(Zt) * C0.cycle_product(C0)).diff(t)\n",
    "print(\"Cycle cross ratio [Z, C0; C0, Z] value by l'Hospital rule: \", lHospital.subs(t==0).normal())"
   ]
  },
  {
   "cell_type": "markdown",
   "id": "11890f71",
   "metadata": {
    "collapsed": false
   },
   "source": [
    "Now we move the focus from orthogonality to tangency. For a zero-radius cycle `Z` and passing it cycle `C0`, consider the pencil (linearly) spanned by `Z` and `C0`. For the cycle `Ct` from the pencil the value of the cycle cross ratio $[Ct, C0; C0, Ct]$ is constantly $1$ since `Ct` touches `C0` and for $t=0$ `Ct` coincides with `Z`. Thus we can extend the value $1$ to $[Z, C0; C0, Z]$ by continuity."
   ]
  },
  {
   "cell_type": "code",
   "execution_count": null,
   "id": "fbb8b76a",
   "metadata": {
    "collapsed": false
   },
   "outputs": [],
   "source": [
    "C0=C.subject_to([C.is_orthogonal(Z)])\n",
    "Ct=Z*(1-t)+C0*t\n",
    "print(\"Cycyle cross ratio [Z, C0; C0, Z] value from the pencil: \", (C0.cycle_product(Ct)**2/(Ct.cycle_product(Ct)*C0.cycle_product(C0))).normal())"
   ]
  },
  {
   "cell_type": "markdown",
   "id": "ad76dcc6",
   "metadata": {
    "collapsed": false
   },
   "source": [
    "**Example 3**.\n",
    "  The Steiner power (\\ref{eq:steiner-power}) can be written as:\n",
    "$$\n",
    "    d(C,C_1)=  〈C,C_{\\mathbb{R}^{}};C_1,C_{\\mathbb{R}^{}}〉 +\n",
    "    \\sqrt{〈C,C_{\\mathbb{R}^{}};C,C_{\\mathbb{R}^{}}〉} \\cdot\n",
    "    \\sqrt{〈C_1,C_{\\mathbb{R}^{}};C_1,C_{\\mathbb{R}^{}}〉} ,\n",
    "    \\tag{17}\n",
    "    \\label{eq:steiner-cross-ratio}\n",
    "$$\n",
    "  where $C_{\\mathbb{R}^{}}$ is the real line and cycles $C$ and $C_1$ do not need to be normalised in any particular way. Thereafter, the Steiner power is an invariant of two cycles $C$ and $C_1$  under Möbius transformations,  since they fix the real line $C_{\\mathbb{R}^{}}$. The Möbius invariance is not so obvious from the expression (\\ref{eq:steiner-power}).\n",
    "  \n",
    "[Back to ToC](#ToC)"
   ]
  },
  {
   "cell_type": "markdown",
   "id": "d1527c2f",
   "metadata": {
    "collapsed": false
   },
   "source": [
    "<a id=\"crossRatioAnharmonicity\"></a>\n",
    "### Measure of anharmonicity\n",
    "\n",
    "The next two applications will generalise the main features of the traditional cross ratio. Recall the other name of the cross ratio–-the anharmonic ratio. The origin of the latter is as follows. Two points $z_1$ and $z_2$ on a line define one-dimensional sphere with the centre $O=\\frac{1}{2}(z_1+z_2)$, which can be tacken as the origin. Two points $c_1$ and $c_2$ are called *harmonically conjugated* (with respect to $z_1$ and $z_2$) if:  \n",
    "$$\n",
    "c_1\\cdot c_2 = - z_1\\cdot z_2, \n",
    "$$\n",
    "\n",
    "It is easy to check that in this case\n",
    "\n",
    "$$\n",
    "(c_1,c_2;z_1,z_2)=-1.\n",
    "\\tag{18}\n",
    "\\label{eq:harmonic-points-cross-ratio}\n",
    "$$\n",
    "\n",
    "Thus, the cross ratio can be viewed as a measure how far four points are from harmonic conjugation, i.e. a measure of anharmonicity of a quadruple.\n",
    "\n"
   ]
  },
  {
   "cell_type": "markdown",
   "id": "e0c7f160",
   "metadata": {
    "collapsed": false
   },
   "source": [
    "To make a similar interpretation of the cycles cross ratio recall that for FSCc matrices of a cycle $C_1$ and its *reflection* $C_2$ in a cycle $C$ we have: $C_2=C\\bar{C}_1C$ [Ref.6](#refKisil12a), § 6.5. That is, the reflection in a cycle $C$ is the composition  of FLT transform with FSCc matrix $C$ and complex conjugation of matrix entries. It is easily to obtain:\n",
    "\n",
    "**Proposition 2**.\n",
    "<a id=\"pr:inversive-distance-orthogonal\"></a>\n",
    "\\label{pr:inversive-distance-orthogonal}\n",
    "If a cycle $C_1$ is a reflection of $C_2$ in a cycle $C$ then:\n",
    "$$\n",
    "〈C_1, C; C, C_1〉 =   〈C_2, C; C, C_2〉.\n",
    "$$\n",
    "More generally, the reflection in a cycle preserves the inversive distance, cf. [Ex.1](#ex:inversive-dist-cross-ratio). \n",
    "\n",
    "The above condition is necessary, we describe a sufficient one as a [*figure*](https://colab.research.google.com/github/vvkisil/Cycles-cross-ratio-Invitation/blob/master/Geometry_of_cycles/Start_from_Basics/What_is_figure.ipynb) in the sense of {[Ref.8](#refKisil18) [Ref.9](#refKisil19) [Ref.10](#refKisil20)}. In short, a figure is an ensemble of cycles interrelated by cycles' relations. For purpose of this paper FLT-invariant relation ``to be orthogonal'' between two cycles is enough. \n",
    "\n",
    "**Figure 1**.\n",
    "+ For given two cycles $C$ and $C_1$ construct the reflection $C_2=C\\bar{C}_1C$ of $C_1$ in $C$."
   ]
  },
  {
   "cell_type": "code",
   "execution_count": null,
   "id": "2a6d43e2",
   "metadata": {
    "collapsed": false
   },
   "outputs": [],
   "source": [
    "f = figure()\n",
    "C = f.add_cycle(cycle_data(k, [l, n], m), \"C\")\n",
    "C1 = f.add_cycle(cycle_data(k1, [l1, n1], m1), \"C1\")\n",
    "C2 = f.add_cycle_rel([conjugation([C1,C])], \"C2\")"
   ]
  },
  {
   "cell_type": "markdown",
   "id": "8d5223d8",
   "metadata": {
    "collapsed": false
   },
   "source": [
    "+ Take any cycle $C_o$ orthogonal to   $C$ and $C_1$, see [Illustration](#ill:reflected-cycles). All such cycles make a *pencil*–-one dimensional subspace of the projective space of cycles. That is because there are only two linear equations for orthogonality \\eqref{eq:cycle-product-explicit} to determine four projective coordinates $(k_o,l_o,n_o,m_o)$. By [Prop. 1](#pr:inversive-distance-orthogonal) $C_o$ is also orthogonal to $C_2$."
   ]
  },
  {
   "cell_type": "code",
   "execution_count": null,
   "id": "660592df",
   "metadata": {
    "collapsed": false
   },
   "outputs": [],
   "source": [
    "Co = f.add_cycle_rel([is_orthogonal(C), is_orthogonal(C1)], \"Co\", \"C_o\")"
   ]
  },
  {
   "cell_type": "markdown",
   "id": "058ab0eb",
   "metadata": {
    "collapsed": false
   },
   "source": [
    "+ Define cycles by orthogonality to $C$, $C_o$ and itself (zero-radius condition), that is the intersection points of  $C$ and $C_o$. Since self-orthogonality is a quadratic condition there are two solutions: $Z_1$ and $Z_2$."
   ]
  },
  {
   "cell_type": "code",
   "execution_count": null,
   "id": "5a9d5bca",
   "metadata": {
    "collapsed": false
   },
   "outputs": [],
   "source": [
    "Z = f.add_cycle_rel([is_orthogonal(C), is_orthogonal(Co), is_orthogonal()], \"Z\")\n",
    "Z1 = f.add_cycle_rel([with_index(Z,0)], \"Z1\")\n",
    "Z2 = f.add_cycle_rel([with_index(Z,1)], \"Z2\")"
   ]
  },
  {
   "cell_type": "markdown",
   "id": "fb54f3b9",
   "metadata": {
    "collapsed": false
   },
   "source": [
    "+ The harmonic conjugation of $C_1$ and $C_2$ (their reflection in $C$) implies, cf. \\eqref{eq:harmonic-points-cross-ratio}:\n",
    "$$\n",
    "\\tag{19}\n",
    "\\label{eq:harmonic-cycless-cross-ratio}\n",
    "〈C_1,C_2;Z_1,Z_2〉=1.\n",
    "$$"
   ]
  },
  {
   "cell_type": "code",
   "execution_count": null,
   "id": "83937a3c",
   "metadata": {
    "collapsed": false
   },
   "outputs": [],
   "source": [
    "Res = f.measure(C1, [C2, Z1, Z2], \"cross_ratio\")\n",
    "for M in Res:\n",
    "    print(f'Cycles cross ratio value: {M.normal()}')"
   ]
  },
  {
   "cell_type": "markdown",
   "id": "f3be1491",
   "metadata": {
    "collapsed": false
   },
   "source": [
    "Thus our symbolic computation show the desired result. \n",
    "\n",
    "We also make an illustration for the paper. First we are adding a bit of colour."
   ]
  },
  {
   "cell_type": "code",
   "execution_count": null,
   "id": "7f4e6601",
   "metadata": {
    "collapsed": false
   },
   "outputs": [],
   "source": [
    "f.set_asy_style(C,\"rgb(0,0,.9)\")\n",
    "f.set_asy_style(C1,\"rgb(0.9,0,0)\")\n",
    "f.set_asy_style(C2,\"rgb(0,0,.9)\")\n",
    "f.set_asy_style(Co,\"dashed\")\n",
    "f.set_asy_style(Z,\"invisible\")"
   ]
  },
  {
   "cell_type": "markdown",
   "id": "380e78f3",
   "metadata": {
    "collapsed": false
   },
   "source": [
    "Then we substitute some definite values to all parameters, do not forget about an additional free parameter in the cycle `Co`.\n",
    "<a id=\"ill:reflected-cycles\"></a>"
   ]
  },
  {
   "cell_type": "code",
   "execution_count": null,
   "id": "b7244499",
   "metadata": {
    "collapsed": false
   },
   "outputs": [],
   "source": [
    "Coc = f.get_cycles(Co)[0]\n",
    "n0 = Coc.get_l(1)\n",
    "f.subs([k==1, l==-.15, n==.425, m==-3.8, k1==1, l1==-3.12, n1==1.98, m1==12.7, n0==3.2*Coc.get_k()], 0x0100)\\\n",
    " .asy_write(300,-4.3,3.2,-3,4.6,\"cycle-anharmonicity\",\"png\")\n",
    "Image(\"cycle-anharmonicity.png\")"
   ]
  },
  {
   "cell_type": "markdown",
   "id": "b0d5369c",
   "metadata": {
    "collapsed": false
   },
   "source": [
    "[Back to ToC](#ToC)"
   ]
  },
  {
   "cell_type": "markdown",
   "id": "2ab08726",
   "metadata": {
    "collapsed": false
   },
   "source": [
    "<a id=\"crossRatioDistance\"></a>\n",
    "### Invariant sphere distance\n",
    "\n",
    "As the final illustration, we introduce Möbius-invariant distance between cycles. Recall that FLT with a $\\mathrm{SL}_2(\\mathbb{R})$ matrix fixes the real line and it is called a *Möbius transformation* [Ref.5](#refKisil07) [Ref.6](#refKisil12), Ch. 1. The corresponding figure is as follows, see [Illustration](#ill:constr-mobi-invar):\n",
    "\n",
    "<a id=\"fig:distance\"></a>\n",
    "**Figure 2**.\n",
    "+ Let two distinct cycles $C_1$ and $C_2$  be given and they are different from the real line $C_{\\mathbb{R}^{}}$.\n"
   ]
  },
  {
   "cell_type": "code",
   "execution_count": null,
   "id": "24528068",
   "metadata": {
    "collapsed": false
   },
   "outputs": [],
   "source": [
    "f = figure()\n",
    "C1 = f.add_cycle(cycle_data(k1, [l1, n1], m1), \"C1\")\n",
    "C2 = f.add_cycle(cycle_data(k, [l, n], m), \"C2\")"
   ]
  },
  {
   "cell_type": "markdown",
   "id": "175180cf",
   "metadata": {
    "collapsed": false
   },
   "source": [
    "+ Define a cycle $C$ to be orthogonal to $C_1$, $C_2$, and $C_{\\mathbb{R}^{}}$. It is specified by three linear equation for homogeneous coordinates $(k, l, n, m)$. In generic position a solution is unique, however it can be an imaginary cycle (with a negative square of the radius). "
   ]
  },
  {
   "cell_type": "code",
   "execution_count": null,
   "id": "694601cc",
   "metadata": {
    "collapsed": false
   },
   "outputs": [],
   "source": [
    "C = f.add_cycle_rel([is_orthogonal(C1), is_orthogonal(C2),  is_orthogonal(f.get_real_line())], \"C\", \"C\")"
   ]
  },
  {
   "cell_type": "markdown",
   "id": "179ca576",
   "metadata": {
    "collapsed": false
   },
   "source": [
    "+ Define cycles by orthogonality to $C$, $C_{\\mathbb{R}^{}}$ and itself, that is the intersection points of $C$ and $C_{\\mathbb{R}^{}}$. In general position there are two solutions which we denote by $Z_1$ and $Z_2$. For an imaginary cycle $C$ first coordinates of $Z_1$ and $Z_2$ are conjugated complex numbers."
   ]
  },
  {
   "cell_type": "code",
   "execution_count": null,
   "id": "01424d38",
   "metadata": {
    "collapsed": false
   },
   "outputs": [],
   "source": [
    "Z = f.add_cycle_rel([is_orthogonal(C), is_orthogonal(f.get_real_line()), is_orthogonal()], \"Z\")\n",
    "Z1 = f.add_cycle_rel([with_index(Z,0)], \"Z1\")\n",
    "Z2 = f.add_cycle_rel([with_index(Z,1)], \"Z2\")"
   ]
  },
  {
   "cell_type": "markdown",
   "id": "d017d7f6",
   "metadata": {
    "collapsed": false
   },
   "source": [
    "+ Since the entire construction is completely determined by the given cycles  $C_1$ and $C_2$ we define the *distance between two cycles* by:\n",
    "$$\n",
    "\\tag{20}\n",
    "\\label{eq:distance-cross-ratio}\n",
    "d(C_1,C_2)= \\textstyle \\frac{1}{2}\\log 〈C_1,C_2; Z_1,Z_2〉.\n",
    "$$\n"
   ]
  },
  {
   "cell_type": "markdown",
   "id": "f9e47c75",
   "metadata": {
    "collapsed": false
   },
   "source": [
    "From Möbius invariance of the real line and cycles cross ratio our construction implies the following:\n",
    "\n",
    "<a id=\"pr:inv-distance\"></a>\n",
    "**Proposition 3**.\n",
    "1. The distance \\eqref{eq:distance-cross-ratio} is Möbius invariant;\n",
    "2. <a id=\"item:distance-equality\"></a> For zero-radius cycles $C_1$, $C_2$ formula \\eqref{eq:distance-cross-ratio} coincides with the Lobachevsky metric on the upper-half plane. \n",
    "3. <a id=\"item:additivity\"></a> In terms of the previous construction, for any cycle $C_3$ orthogonal to $C$ the (signed) distance is additive: $d(C_1,C_3)=d(C_1,C_2)+d(C_2,C_3)$.\n",
    "4. <a id=\"item:vertical-geodesic\"></a> If centres of $C_1$ and $C_2$ are on the imaginary axis (therefore $Z_1$ and $Z_2$ are zero and infinity) then $  d(C_1,C_2)=\\log(m_1/k_1)-\\log(k_2/m_2)$.\n",
    "\n",
    "Obviously, [Prop.3.2](#item:distance-equality) is the consequence of \\eqref{eq:cross-ratio-points-eq}. [Prop.3.3](#item:additivity) follows from the cancellation rule \\eqref{eq:cross-ratio-cancellation}. \n",
    "\n",
    "The expression in [Prop.3.4](#item:vertical-geodesic) can be obtained by a direct computation:"
   ]
  },
  {
   "cell_type": "code",
   "execution_count": null,
   "id": "e7e35cd5",
   "metadata": {
    "collapsed": false
   },
   "outputs": [],
   "source": [
    "f.move_cycle(C1, cycle_data(k1, [0, n1], m1))\n",
    "f.move_cycle(C2, cycle_data(k, [0, n], m))\n",
    "Res = f.subs([l==0, l1==0]).measure(C1, [C2, Z1, Z2], \"cross_ratio\")\n",
    "for M in Res:\n",
    "    display(Latex(f'Cycles distance: ${M.normal()}$'))"
   ]
  },
  {
   "cell_type": "markdown",
   "id": "1dc3a339",
   "metadata": {
    "collapsed": false
   },
   "source": [
    " Note that in this case $m_1/k_1$ is the *tangential distance* from `Z1` (the origin) to the cycle `C1` (and likewise for $m_2/k_2$). The latter is measured by the Steiner power \\eqref{eq:steiner-power}, \\eqref{eq:steiner-cross-ratio}:"
   ]
  },
  {
   "cell_type": "code",
   "execution_count": null,
   "id": "9d530033",
   "metadata": {
    "collapsed": false
   },
   "outputs": [],
   "source": [
    "Res = f.subs([l==0, l1==0]).measure(Z1, C1, \"steiner_power\")\n",
    "for M in Res:\n",
    "    display(Latex(f'Cycles distance: ${M.normal()}$'))"
   ]
  },
  {
   "cell_type": "markdown",
   "id": "502b9f91",
   "metadata": {
    "collapsed": false
   },
   "source": [
    "Finally,  we making the paper illustration \"moving\" the initial cycles `C1` and `C2` to some fixed positions:\n",
    "<a id=\"ill:constr-mobi-invar\"></a>"
   ]
  },
  {
   "cell_type": "code",
   "execution_count": null,
   "id": "b2e074a6",
   "metadata": {
    "collapsed": false
   },
   "outputs": [],
   "source": [
    "f.set_asy_style(C,\"rgb(.9,0,0)\")\n",
    "f.set_asy_style(C1,\"rgb(0,0,.9)\")\n",
    "f.set_asy_style(C2,\"rgb(0,0,.9)\")\n",
    "f.set_asy_style(Z,\"invisible\")\n",
    "\n",
    "f.move_cycle(C1, cycle_data(1, [-3.53, 1.75], 14.5))\n",
    "f.move_cycle(C2, cycle_data(1, [.05, 2.38], 3.39))\n",
    "f.asy_write(300,-5.2,2.1,-3,4.1,\"cycle-distance\",\"png\")\n",
    "Image(\"cycle-distance.png\")"
   ]
  },
  {
   "cell_type": "markdown",
   "id": "72c145b6",
   "metadata": {
    "collapsed": false
   },
   "source": [
    "Comparing constructions in the previous two images and formulae \\eqref{eq:harmonic-cycless-cross-ratio}–\\eqref{eq:distance-cross-ratio} we can say that the invariant distance measures how far two cycles are from being reflections of each other in the real line."
   ]
  },
  {
   "cell_type": "markdown",
   "id": "c535499f",
   "metadata": {
    "collapsed": false
   },
   "source": [
    "[Back to ToC](#ToC)"
   ]
  },
  {
   "cell_type": "markdown",
   "id": "704c3358",
   "metadata": {
    "collapsed": false
   },
   "source": [
    "<a id=\"references\"></a>\n",
    "### References\n",
    "\n",
    "  <a id=\"refCnops\"></a>\n",
    "1. J. Cnops, *Hurwitz pairs and applications of Möbius transformations*. Habilitation Dissertation, Universiteit Gent, 1994. \n",
    "\n",
    "  <a id=\"refCoxeter\"></a>\n",
    "2.  H. S. M. Coxeter and S. L. Greitzer. *Geometry revisited*. Random House, New York, 1967.\n",
    "Zbl0166.16402.\n",
    "\n",
    "  <a id=\"refFS\"></a>\n",
    "3.  J. P. Fillmore and A. Springer. *Möbius groups over general fields using Clifford algebras associated with spheres*. Internat. J. Theoret. Phys., **29** (3):225–246, 1990.\n",
    "\n",
    "  <a id=\"refGohberg\"></a>\n",
    "4.  I. Gohberg, P. Lancaster, and L. Rodman. *Indefinite linear algebra and applications*. Birkhäuser Verlag, Basel, 2005.\n",
    "\n",
    "   <a id=\"refKisil07\"></a>\n",
    "5. V.V. Kisil. *Starting with the group SL2(R).* Notices Amer. Math. Soc., [**54**(11):1458–1465](http://www.ams.org/notices/200711/tx071101458p.pdf), 2007. [arXiv:math/0607387](https://arxiv.org/abs/math/0607387), Zbl # 1137.22006.\n",
    "\n",
    "  <a id=\"refKisil12\"></a>\n",
    "6. Vladimir V. Kisil. *Geometry of Möbius Transformations: Elliptic, Parabolic and Hyperbolic Actions of $SL_2(\\mathbb{R})$*. [Imperial College Press](https://www.worldscientific.com/worldscibooks/10.1142/p835), London, 2012. Includes a live DVD.\n",
    "\n",
    "  <a id=\"refKisilMN\"></a>\n",
    "7.  Vladimir V. Kisil, [*MoebInv notebooks*](https://github.com/vvkisil/Cycles-cross-ratio-Invitation), 2019.\n",
    "\n",
    "   <a id=\"refKisil18\"></a>\n",
    "8. V. V. Kisil. An extension of Mobius–Lie geometry with conformal ensembles of cycles and its implementation in a GiNaC library. Proc. Int. Geom. Cent., 11 (3):45–67, 2018. E-print: [arXiv:1512.02960](https://arxiv.org/abs/1512.02960). Project page: http://moebinv.sourceforge.net/.\n",
    "\n",
    "   <a id=\"refKisil19\"></a>\n",
    "9. V. V. Kisil. Möbius–Lie geometry and its extension. In I. M. Mladenov, G. Meng, and A. Yoshioka (eds.) Geometry, integrability and quantization XX, pages 13–61, Bulgar. Acad. Sci., Sofia, 2019. E-print: [arXiv:1811.10499](https://arxiv.org/abs/1811.10499).\n",
    "\n",
    "  <a id=\"refKisil20\"></a>\n",
    "10.  V. V. Kisil. *MoebInv: C++ libraries for manipulations in non-Euclidean geometry*. SoftwareX, **11**:100385, 2020. doi: [10.1016/j.softx.2019.100385](http://dx.doi.org/10.1016/j.softx.2019.100385).\n",
    "\n",
    "  <a id=\"refKisil21\"></a>\n",
    "11. V. V. Kisil. *Cycles cross ratio: an Invitation*, 2021, [arXiv:2105.05634](https://arxiv.org/abs/2105.05634).\n",
    "\n",
    "  <a id=\"refPedoe\"></a>\n",
    "12. D. Pedoe. *Circles: A mathematical view*. MAA Spectrum. Mathematical Association of America, Washington, DC, 1995. Revised reprint of the 1979 edition, With a biographical appendix on Karl Feuerbach by Laura Guggenbuhl.\n",
    "\n",
    "  <a id=\"refSchwerdtfeger\"></a>\n",
    "13. H. Schwerdtfeger. *Geometry of complex numbers: Circle geometry, Möbius transformation, non-Euclidean geometry*. Dover Books on Advanced Mathematics. Dover Publications Inc., New York, 1979. A corrected reprinting of the 1962 edition.\n",
    "\n",
    "  <a id=\"refYaglom\"></a>\n",
    "14. I. M. Yaglom. *A Simple Non-Euclidean Geometry and Its Physical Basis.* Heidelberg Science Library. Springer-Verlag, New York, 1979. Translated from the Russian by Abe Shenitzer, with the editorial assistance of Basil Gordon.\n",
    "\n",
    "[Back to ToC](#ToC)\n",
    "\n",
    "Back to the [top-level Table of Contents](https://github.com/vvkisil/MoebInv-notebooks/blob/master/Table_of_contents.md)."
   ]
  }
 ],
 "metadata": {
  "kernelspec": {
   "argv": [
    "/usr/bin/python3",
    "-m",
    "ipykernel_launcher",
    "-f",
    "{connection_file}"
   ],
   "display_name": "Python 3",
   "env": null,
   "interrupt_mode": "signal",
   "language": "python",
   "metadata": null,
   "name": "python3"
  },
  "name": "cycles-cross-ratio-Invitation.ipynb"
 },
 "nbformat": 4,
 "nbformat_minor": 5
}
